{
 "cells": [
  {
   "cell_type": "code",
   "execution_count": 1,
   "metadata": {},
   "outputs": [],
   "source": [
    "import json"
   ]
  },
  {
   "cell_type": "code",
   "execution_count": 2,
   "metadata": {},
   "outputs": [],
   "source": [
    "with open('E:\\Football Analysis\\Source Code\\Statsbomb\\data\\competitions.json') as f:\n",
    "    competitions = json.load(f)"
   ]
  },
  {
   "cell_type": "code",
   "execution_count": 3,
   "metadata": {},
   "outputs": [],
   "source": [
    "competition_id=43"
   ]
  },
  {
   "cell_type": "code",
   "execution_count": 4,
   "metadata": {},
   "outputs": [],
   "source": [
    "with open('E:\\Football Analysis\\Source Code\\Statsbomb\\data\\matches/'+str(competition_id)+'/3.json') as f:\n",
    "    matches = json.load(f)"
   ]
  },
  {
   "cell_type": "code",
   "execution_count": 5,
   "metadata": {},
   "outputs": [
    {
     "output_type": "execute_result",
     "data": {
      "text/plain": "{'match_id': 7562,\n 'match_date': '2018-06-26',\n 'kick_off': '16:00:00.000',\n 'competition': {'competition_id': 43,\n  'country_name': 'International',\n  'competition_name': 'FIFA World Cup'},\n 'season': {'season_id': 3, 'season_name': '2018'},\n 'home_team': {'home_team_id': 792,\n  'home_team_name': 'Australia',\n  'home_team_gender': 'male',\n  'home_team_group': 'Group C',\n  'country': {'id': 14, 'name': 'Australia'},\n  'managers': [{'id': 630,\n    'name': 'Bert van Marwijk',\n    'nickname': None,\n    'dob': '1952-05-19',\n    'country': {'id': 160, 'name': 'Netherlands'}}]},\n 'away_team': {'away_team_id': 784,\n  'away_team_name': 'Peru',\n  'away_team_gender': 'male',\n  'away_team_group': 'Group C',\n  'country': {'id': 179, 'name': 'Peru'},\n  'managers': [{'id': 629,\n    'name': 'Ricardo Alberto Gareca Nardi',\n    'nickname': None,\n    'dob': '1958-02-10',\n    'country': {'id': 11, 'name': 'Argentina'}}]},\n 'home_score': 0,\n 'away_score': 2,\n 'match_status': 'available',\n 'last_updated': '2019-12-16T23:09:16.168756',\n 'metadata': {'data_version': '1.0.2'},\n 'match_week': 3,\n 'competition_stage': {'id': 10, 'name': 'Group Stage'},\n 'stadium': {'id': 249,\n  'name': 'Olimpiyskiy Stadion Fisht',\n  'country': {'id': 188, 'name': 'Russia'}},\n 'referee': {'id': 725, 'name': 'S. Karasev'}}"
     },
     "metadata": {},
     "execution_count": 5
    }
   ],
   "source": [
    "matches[0]"
   ]
  },
  {
   "cell_type": "code",
   "execution_count": 5,
   "metadata": {},
   "outputs": [
    {
     "output_type": "execute_result",
     "data": {
      "text/plain": "{'home_team_id': 792,\n 'home_team_name': 'Australia',\n 'home_team_gender': 'male',\n 'home_team_group': 'Group C',\n 'country': {'id': 14, 'name': 'Australia'},\n 'managers': [{'id': 630,\n   'name': 'Bert van Marwijk',\n   'nickname': None,\n   'dob': '1952-05-19',\n   'country': {'id': 160, 'name': 'Netherlands'}}]}"
     },
     "metadata": {},
     "execution_count": 5
    }
   ],
   "source": [
    "matches[0]['home_team']"
   ]
  },
  {
   "cell_type": "code",
   "execution_count": 6,
   "metadata": {},
   "outputs": [
    {
     "output_type": "execute_result",
     "data": {
      "text/plain": "'Australia'"
     },
     "metadata": {},
     "execution_count": 6
    }
   ],
   "source": [
    "matches[0]['home_team']['home_team_name']\n"
   ]
  },
  {
   "cell_type": "code",
   "execution_count": 7,
   "metadata": {},
   "outputs": [
    {
     "output_type": "execute_result",
     "data": {
      "text/plain": "'Peru'"
     },
     "metadata": {},
     "execution_count": 7
    }
   ],
   "source": [
    "matches[0]['away_team']['away_team_name']"
   ]
  },
  {
   "cell_type": "code",
   "execution_count": 13,
   "metadata": {},
   "outputs": [
    {
     "output_type": "stream",
     "name": "stdout",
     "text": "Australia 0 : 2 Peru\nNigeria 2 : 0 Iceland\nSerbia 0 : 2 Brazil\nCroatia 1 : 1 Denmark\nIran 1 : 1 Portugal\nMexico 0 : 3 Sweden\nBrazil 2 : 0 Costa Rica\nGermany 0 : 1 Mexico\nPortugal 3 : 3 Spain\nRussia 3 : 1 Egypt\nSwitzerland 2 : 2 Costa Rica\nPanama 1 : 2 Tunisia\nEngland 0 : 1 Belgium\nFrance 1 : 0 Belgium\nBelgium 2 : 0 England\nIran 0 : 1 Spain\nUruguay 3 : 0 Russia\nCroatia 2 : 0 Nigeria\nBrazil 1 : 2 Belgium\nFrance 1 : 0 Peru\nTunisia 1 : 2 England\nFrance 4 : 3 Argentina\nArgentina 0 : 3 Croatia\nBelgium 3 : 0 Panama\nFrance 2 : 1 Australia\nCosta Rica 0 : 1 Serbia\nBelgium 3 : 2 Japan\nUruguay 0 : 2 France\nSweden 1 : 0 South Korea\nBrazil 1 : 1 Switzerland\nSpain 2 : 2 Morocco\nRussia 5 : 0 Saudi Arabia\nPeru 0 : 1 Denmark\nPoland 0 : 3 Colombia\nSenegal 0 : 1 Colombia\nRussia 2 : 2 Croatia\nSouth Korea 1 : 2 Mexico\nSaudi Arabia 2 : 1 Egypt\nMorocco 0 : 1 Iran\nPoland 1 : 2 Senegal\nSerbia 1 : 2 Switzerland\nJapan 2 : 2 Senegal\nIceland 1 : 2 Croatia\nSweden 1 : 0 Switzerland\nDenmark 0 : 0 France\nUruguay 2 : 1 Portugal\nEgypt 0 : 1 Uruguay\nSweden 0 : 2 England\nArgentina 1 : 1 Iceland\nBelgium 5 : 2 Tunisia\nFrance 4 : 2 Croatia\nColombia 1 : 1 England\nEngland 6 : 1 Panama\nPortugal 1 : 0 Morocco\nGermany 2 : 1 Sweden\nNigeria 1 : 2 Argentina\nSouth Korea 2 : 0 Germany\nUruguay 1 : 0 Saudi Arabia\nColombia 1 : 2 Japan\nBrazil 2 : 0 Mexico\nJapan 0 : 1 Poland\nDenmark 1 : 1 Australia\nSpain 1 : 1 Russia\nCroatia 2 : 1 England\n"
    }
   ],
   "source": [
    "for match in matches:\n",
    "    home_team_name=match['home_team']['home_team_name']\n",
    "    away_team_name=match['away_team']['away_team_name']\n",
    "    home_score=match['home_score']\n",
    "    away_score=match['away_score']\n",
    "    describe_text = home_team_name + \" \" + str(home_score) + ' : ' + str(away_score) + \" \" + away_team_name\n",
    "    print(describe_text)"
   ]
  },
  {
   "cell_type": "code",
   "execution_count": 9,
   "metadata": {},
   "outputs": [
    {
     "output_type": "stream",
     "name": "stdout",
     "text": "France 1 : 0 Belgium\nFrance 1 : 0 Peru\nFrance 4 : 3 Argentina\nFrance 2 : 1 Australia\nUruguay 0 : 2 France\nDenmark 0 : 0 France\nFrance 4 : 2 Croatia\n"
    }
   ],
   "source": [
    "for match in matches:\n",
    "    home_team_name=match['home_team']['home_team_name']\n",
    "    away_team_name=match['away_team']['away_team_name']\n",
    "    if home_team_name == \"France\" or away_team_name == \"France\":\n",
    "        home_score=match['home_score']\n",
    "        away_score=match['away_score']\n",
    "        describe_text = home_team_name + \" \" + str(home_score) + ' : ' + str(away_score) + \" \" + away_team_name\n",
    "        print(describe_text)\n"
   ]
  },
  {
   "cell_type": "code",
   "execution_count": 10,
   "metadata": {},
   "outputs": [],
   "source": [
    "home_team_required =\"France\"\n",
    "away_team_required =\"Croatia\""
   ]
  },
  {
   "cell_type": "code",
   "execution_count": 14,
   "metadata": {},
   "outputs": [
    {
     "output_type": "stream",
     "name": "stdout",
     "text": "France vs Belgium has id:8655\nFrance vs Peru has id:7546\nFrance vs Argentina has id:7580\nFrance vs Australia has id:7530\nUruguay vs France has id:8649\nDenmark vs France has id:7563\nFrance vs Croatia has id:8658\n"
    }
   ],
   "source": [
    "for match in matches:\n",
    "    home_team_name=match['home_team']['home_team_name']\n",
    "    away_team_name=match['away_team']['away_team_name']\n",
    "    if home_team_name=='France' or away_team_name=='France':\n",
    "        match_id_required = match['match_id']\n",
    "        print(home_team_name + ' vs ' + away_team_name + ' has id:' + str(match_id_required))"
   ]
  },
  {
   "cell_type": "code",
   "execution_count": null,
   "metadata": {},
   "outputs": [],
   "source": []
  }
 ],
 "metadata": {
  "language_info": {
   "codemirror_mode": {
    "name": "ipython",
    "version": 3
   },
   "file_extension": ".py",
   "mimetype": "text/x-python",
   "name": "python",
   "nbconvert_exporter": "python",
   "pygments_lexer": "ipython3",
   "version": "3.8.2-final"
  },
  "orig_nbformat": 2,
  "kernelspec": {
   "name": "python38232bit492e702ddcf443579fc95c78302d44d5",
   "display_name": "Python 3.8.2 32-bit"
  }
 },
 "nbformat": 4,
 "nbformat_minor": 2
}